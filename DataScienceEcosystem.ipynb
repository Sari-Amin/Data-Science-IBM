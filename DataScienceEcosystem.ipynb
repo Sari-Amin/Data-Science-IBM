{
 "cells": [
  {
   "cell_type": "markdown",
   "id": "e1afb6fb-3490-44a3-8c14-50ffd73e8825",
   "metadata": {},
   "source": [
    "# Data Science Tools and Ecosystem"
   ]
  },
  {
   "cell_type": "markdown",
   "id": "b166a227-4007-4b5e-af0a-6ff22450b56a",
   "metadata": {},
   "source": [
    "## In this notebook, Data Science Tools and Ecosystem are summarized."
   ]
  },
  {
   "cell_type": "markdown",
   "id": "f0d291c4-9173-46e4-90d0-b9a6d4278919",
   "metadata": {},
   "source": [
    "### Objectives:\n",
    "- List popular languages for Data Science\n",
    "- List of common data science tools\n",
    "- show example of arithmetic expressions and evaluation in python"
   ]
  },
  {
   "cell_type": "markdown",
   "id": "2326a043-c179-4e2a-a472-64512fabc1ba",
   "metadata": {},
   "source": [
    "### Some of the popular languages that Data Scientists use are:\n",
    "1. Python\n",
    "2. R\n",
    "3. Jullia"
   ]
  },
  {
   "cell_type": "markdown",
   "id": "72ea627e-c5de-4b9a-abc0-559b57590dbe",
   "metadata": {},
   "source": [
    "### Some of the commonly used libraries used by Data Scientists include:\n",
    "1. pandas\n",
    "2. scipy\n",
    "3. tensorflow\n",
    "4. cater\n",
    "5. matplotlib, ggplot ...."
   ]
  },
  {
   "cell_type": "markdown",
   "id": "451bb00c-be89-4f54-a6ed-813086898d32",
   "metadata": {
    "tags": []
   },
   "source": [
    "| Data Science Tools|\n",
    "| ----------------- |\n",
    "| RStudio |\n",
    "| Apache Spark |\n",
    "| Apache hadoop |"
   ]
  },
  {
   "cell_type": "markdown",
   "id": "6e169ed2-5482-46b6-aa9e-287997153849",
   "metadata": {},
   "source": [
    "### Below are a few examples of evaluating arithmetic expressions in Python"
   ]
  },
  {
   "cell_type": "code",
   "execution_count": 2,
   "id": "b7f0cf3f-4961-40cb-bd6b-e4b0cf30cc32",
   "metadata": {
    "tags": []
   },
   "outputs": [
    {
     "data": {
      "text/plain": [
       "17"
      ]
     },
     "execution_count": 2,
     "metadata": {},
     "output_type": "execute_result"
    }
   ],
   "source": [
    "#This a simple arithmetic expression to mutiply then add integers\n",
    "\n",
    "(3*4)+5"
   ]
  },
  {
   "cell_type": "code",
   "execution_count": 3,
   "id": "f225a5ff-2b22-4cb3-bb2a-310fa8672c1d",
   "metadata": {
    "tags": []
   },
   "outputs": [
    {
     "data": {
      "text/plain": [
       "3.3333333333333335"
      ]
     },
     "execution_count": 3,
     "metadata": {},
     "output_type": "execute_result"
    }
   ],
   "source": [
    "#This will convert 200 minutes to hours by diving by 60\n",
    "min = 200\n",
    "min / 60"
   ]
  },
  {
   "cell_type": "markdown",
   "id": "a181f8d4-0f61-4f52-8e8c-6f2fae137e52",
   "metadata": {},
   "source": [
    "## Author\n",
    "Sari Amin"
   ]
  }
 ],
 "metadata": {
  "kernelspec": {
   "display_name": "Python",
   "language": "python",
   "name": "conda-env-python-py"
  },
  "language_info": {
   "codemirror_mode": {
    "name": "ipython",
    "version": 3
   },
   "file_extension": ".py",
   "mimetype": "text/x-python",
   "name": "python",
   "nbconvert_exporter": "python",
   "pygments_lexer": "ipython3",
   "version": "3.7.12"
  }
 },
 "nbformat": 4,
 "nbformat_minor": 5
}
